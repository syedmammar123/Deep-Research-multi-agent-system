{
  "cells": [
    {
      "cell_type": "code",
      "execution_count": null,
      "metadata": {
        "colab": {
          "base_uri": "https://localhost:8080/"
        },
        "collapsed": true,
        "id": "_fgiINA43p7Q",
        "outputId": "298eb015-2f57-4323-e0cc-f74510d9f8ab"
      },
      "outputs": [],
      "source": [
        "%pip install llama-index"
      ]
    },
    {
      "cell_type": "code",
      "execution_count": null,
      "metadata": {
        "collapsed": true,
        "id": "Klh1h22foFJ0"
      },
      "outputs": [],
      "source": [
        "%pip install tavily-python"
      ]
    },
    {
      "cell_type": "code",
      "execution_count": null,
      "metadata": {
        "collapsed": true,
        "id": "wIb5HaCQBDYz"
      },
      "outputs": [],
      "source": [
        "%pip install llama-index-llms-groq"
      ]
    },
    {
      "cell_type": "code",
      "execution_count": null,
      "metadata": {
        "id": "4vdI3lCVKDxC"
      },
      "outputs": [],
      "source": [
        "from llama_index.llms.openai import OpenAI\n",
        "from llama_index.llms.groq import Groq\n",
        "\n",
        "from llama_index.core.agent.workflow import FunctionAgent\n",
        "from llama_index.core.workflow import (\n",
        "    StartEvent,\n",
        "    StopEvent,\n",
        "    Workflow,\n",
        "    step,\n",
        ")\n",
        "from llama_index.core.workflow import Context\n",
        "from tavily import AsyncTavilyClient\n",
        "from llama_index.core.workflow import Event"
      ]
    },
    {
      "cell_type": "code",
      "execution_count": null,
      "metadata": {},
      "outputs": [],
      "source": [
        "import os\n",
        "from dotenv import load_dotenv\n",
        "load_dotenv()"
      ]
    },
    {
      "cell_type": "code",
      "execution_count": null,
      "metadata": {},
      "outputs": [],
      "source": [
        "openai_api_key = os.getenv(\"openai_api_key\")\n",
        "print(openai_api_key)\n",
        "tvly_api_key = os.getenv(\"tvly_api_key\")\n",
        "print(tvly_api_key)"
      ]
    },
    {
      "cell_type": "code",
      "execution_count": 23,
      "metadata": {
        "id": "1MIy6Q5UBeAb"
      },
      "outputs": [],
      "source": [
        "llm = OpenAI(model=\"gpt-4.1-mini\", api_key=openai_api_key)"
      ]
    },
    {
      "cell_type": "code",
      "execution_count": 24,
      "metadata": {
        "id": "wy6HTBjoD3xP"
      },
      "outputs": [],
      "source": [
        "response = llm.complete(\"What's capital of Sindh?\")"
      ]
    },
    {
      "cell_type": "code",
      "execution_count": 25,
      "metadata": {
        "colab": {
          "base_uri": "https://localhost:8080/",
          "height": 35
        },
        "id": "08VLR3wSD6OK",
        "outputId": "d9dffcff-a727-4e8b-87c3-d7a494248b48"
      },
      "outputs": [
        {
          "data": {
            "application/vnd.google.colaboratory.intrinsic+json": {
              "type": "string"
            },
            "text/plain": [
              "'The capital of Sindh is Karachi.'"
            ]
          },
          "execution_count": 25,
          "metadata": {},
          "output_type": "execute_result"
        }
      ],
      "source": [
        "response.text"
      ]
    },
    {
      "cell_type": "code",
      "execution_count": 26,
      "metadata": {
        "id": "AIC3Ta1uFwio"
      },
      "outputs": [],
      "source": [
        "async def search_web(query: str) -> str:\n",
        "    \"\"\"Useful for using the web to answer questions.\"\"\"\n",
        "    client = AsyncTavilyClient(api_key=tvly_api_key)\n",
        "    return str(await client.search(query))"
      ]
    },
    {
      "cell_type": "code",
      "execution_count": 27,
      "metadata": {
        "id": "NRgPgB25NXRB"
      },
      "outputs": [],
      "source": [
        "question_agent = FunctionAgent(\n",
        "    tools=[],\n",
        "    llm=llm,\n",
        "    verbose=False,\n",
        "    system_prompt=\"\"\"You are part of a deep research system.\n",
        "      Given a research topic, you should come up with a bunch of questions\n",
        "      that a separate agent will answer in order to write a comprehensive\n",
        "      report on that topic. To make it easy to answer the questions separately,\n",
        "      you should provide the questions one per line. Don't include markdown\n",
        "      or any preamble in your response, just a list of questions.\"\"\"\n",
        ")\n",
        "answer_agent = FunctionAgent(\n",
        "    tools=[search_web],\n",
        "    llm=llm,\n",
        "    verbose=False,\n",
        "    system_prompt=\"\"\"You are part of a deep research system.\n",
        "      Given a specific question, your job is to come up with a deep answer\n",
        "      to that question, which will be combined with other answers on the topic\n",
        "      into a comprehensive report. You can search the web to get information\n",
        "      on the topic, as many times as you need.\"\"\"\n",
        ")\n",
        "report_agent = FunctionAgent(\n",
        "    tools=[],\n",
        "    llm=llm,\n",
        "    verbose=False,\n",
        "    system_prompt=\"\"\"You are part of a deep research system.\n",
        "      Given a set of answers to a set of questions, your job is to combine\n",
        "      them all into a comprehensive report on the topic.\"\"\"\n",
        ")"
      ]
    },
    {
      "cell_type": "code",
      "execution_count": 28,
      "metadata": {
        "id": "M8n_j20bEiHP"
      },
      "outputs": [],
      "source": [
        "class GenerateEvent(Event):\n",
        "  research_topic: str\n",
        "\n",
        "class QuestionEvent(Event):\n",
        "    question: str\n",
        "\n",
        "class AnswerEvent(Event):\n",
        "    question: str\n",
        "    answer: str\n",
        "\n",
        "class ProgressEvent(Event):\n",
        "    msg: str"
      ]
    },
    {
      "cell_type": "code",
      "execution_count": 29,
      "metadata": {
        "id": "H4SkvodFOQjq"
      },
      "outputs": [],
      "source": [
        "class DeepResearchWorkflow(Workflow):\n",
        "\n",
        "    @step\n",
        "    async def setup(self, ctx: Context, ev: StartEvent) -> GenerateEvent:\n",
        "        self.question_agent = ev.question_agent\n",
        "        self.answer_agent = ev.answer_agent\n",
        "        self.report_agent = ev.report_agent\n",
        "\n",
        "        ctx.write_event_to_stream(ProgressEvent(msg=\"Starting research\"))\n",
        "\n",
        "        return GenerateEvent(research_topic=ev.research_topic)\n",
        "\n",
        "    @step\n",
        "    async def generate_questions(self, ctx: Context, ev: GenerateEvent) -> QuestionEvent:\n",
        "\n",
        "        await ctx.set(\"research_topic\", ev.research_topic)\n",
        "        ctx.write_event_to_stream(ProgressEvent(msg=f\"Research topic is {ev.research_topic}\"))\n",
        "\n",
        "        result = await self.question_agent.run(user_msg=f\"\"\"Generate some questions\n",
        "          on the topic <topic>{ev.research_topic}</topic>.\"\"\")\n",
        "\n",
        "        # some basic string manipulation to get separate questions\n",
        "        lines = str(result).split(\"\\n\")\n",
        "        questions = [line.strip() for line in lines if line.strip() != \"\"]\n",
        "\n",
        "        # record how many answers we're going to need to wait for\n",
        "        await ctx.set(\"total_questions\", len(questions))\n",
        "\n",
        "        # fire off multiple Answer Agents\n",
        "        for question in questions:\n",
        "            ctx.send_event(QuestionEvent(question=question))\n",
        "\n",
        "    @step\n",
        "    async def answer_question(self, ctx: Context, ev: QuestionEvent) -> AnswerEvent:\n",
        "\n",
        "        result = await self.answer_agent.run(user_msg=f\"\"\"Research the answer to this\n",
        "          question: <question>{ev.question}</question>. You can use web\n",
        "          search to help you find information on the topic, as many times\n",
        "          as you need. Return just the answer without preamble or markdown.\"\"\")\n",
        "\n",
        "        ctx.write_event_to_stream(ProgressEvent(msg=f\"\"\"Received question {ev.question}\n",
        "            Came up with answer: {str(result)}\"\"\"))\n",
        "\n",
        "        return AnswerEvent(question=ev.question,answer=str(result))\n",
        "\n",
        "    @step\n",
        "    async def write_report(self, ctx: Context, ev: AnswerEvent) -> StopEvent:\n",
        "\n",
        "        research = ctx.collect_events(ev, [AnswerEvent] * await ctx.get(\"total_questions\"))\n",
        "        # if we haven't received all the answers yet, this will be None\n",
        "        if research is None:\n",
        "            ctx.write_event_to_stream(ProgressEvent(msg=\"Collecting answers...\"))\n",
        "            return None\n",
        "\n",
        "        ctx.write_event_to_stream(ProgressEvent(msg=\"Generating report...\"))\n",
        "\n",
        "        # aggregate the questions and answers\n",
        "        all_answers = \"\"\n",
        "        for q_and_a in research:\n",
        "            all_answers += f\"Question: {q_and_a.question}\\nAnswer: {q_and_a.answer}\\n\\n\"\n",
        "\n",
        "        # prompt the report\n",
        "        result = await self.report_agent.run(user_msg=f\"\"\"You are part of a deep research system.\n",
        "          You have been given a complex topic on which to write a report:\n",
        "          <topic>{await ctx.get(\"research_topic\")}.\n",
        "\n",
        "          Other agents have already come up with a list of questions about the\n",
        "          topic and answers to those questions. Your job is to write a clear,\n",
        "          thorough report that combines all the information from those answers.\n",
        "\n",
        "          Here are the questions and answers:\n",
        "          <questions_and_answers>{all_answers}</questions_and_answers>\"\"\")\n",
        "\n",
        "        return StopEvent(result=str(result))\n"
      ]
    },
    {
      "cell_type": "code",
      "execution_count": 30,
      "metadata": {
        "id": "NMJ31vrgyzGi"
      },
      "outputs": [],
      "source": [
        "topic_of_research = \"temperature of karachi on 24th june 2025\""
      ]
    },
    {
      "cell_type": "code",
      "execution_count": 31,
      "metadata": {
        "id": "eW9_Afa0T4s3"
      },
      "outputs": [],
      "source": [
        "workflow = DeepResearchWorkflow(timeout=300)"
      ]
    },
    {
      "cell_type": "code",
      "execution_count": 32,
      "metadata": {
        "id": "cpJfw9AudI5r"
      },
      "outputs": [],
      "source": [
        "handler = workflow.run(\n",
        "    research_topic=topic_of_research,\n",
        "    question_agent=question_agent,\n",
        "    answer_agent=answer_agent,\n",
        "    report_agent=report_agent\n",
        ")"
      ]
    },
    {
      "cell_type": "code",
      "execution_count": 33,
      "metadata": {
        "colab": {
          "base_uri": "https://localhost:8080/"
        },
        "id": "q38QMs6Zy9sa",
        "outputId": "c028391f-823f-420a-9fa5-cd8dbc43d1c1"
      },
      "outputs": [
        {
          "name": "stdout",
          "output_type": "stream",
          "text": [
            "Starting research\n",
            "Research topic is temperature of karachi on 24th june 2025\n",
            "Received question What are the expected maximum and minimum temperatures in Karachi on that day?\n",
            "            Came up with answer: The expected maximum temperature in Karachi on that day is between 34°C to 36°C, and the minimum temperature is expected to be between 29°C to 31°C.\n",
            "Collecting answers...\n",
            "Received question What is the predicted temperature range for Karachi on 24th June 2025?\n",
            "            Came up with answer: The predicted temperature range for Karachi on 24th June 2025 is approximately 86°F (30°C) as the low and 93°F (34°C) as the high.\n",
            "Collecting answers...\n",
            "Received question How does the temperature on 24th June 2025 compare to the average temperature for Karachi in June?\n",
            "            Came up with answer: The temperature in Karachi on 24th June 2025 is forecasted to be around 93°F (approximately 34°C) during the day and 86°F (approximately 30°C) at night. The average temperature for Karachi in June is about 35°C (95°F) during the day and 29°C (84°F) at night. Therefore, the temperature on 24th June 2025 is slightly below the average daytime temperature for June but slightly above the average nighttime temperature.\n",
            "Collecting answers...\n",
            "Received question Are there any expected weather events (e.g., heatwaves, rain) that could affect the temperature in Karachi on that date?\n",
            "            Came up with answer: On the date in question, Karachi is expected to experience relatively mild weather conditions compared to inland areas, with temperatures around 30-35°C. There is a possibility of light rain or drizzle, which could slightly affect the temperature by providing some cooling relief. No extreme weather events like heatwaves are forecasted for Karachi on that date, but the presence of some rain or drizzle might influence the temperature to be a bit lower than usual for this time of year.\n",
            "Collecting answers...\n",
            "Received question How reliable are temperature forecasts for Karachi this far in advance?\n",
            "            Came up with answer: Temperature forecasts for Karachi this far in advance (long-range forecasts) are generally based on statistical analysis of previous years' weather patterns rather than precise daily weather modeling. Forecasts up to about 14 days tend to be more accurate, while forecasts extending beyond that, such as 30 days or more, rely on historical averages and climatological data, making them less precise for specific daily temperatures. Long-range forecasts can give a general idea of temperature trends (e.g., warmer or cooler than average) but are not highly reliable for exact temperature predictions far in advance.\n",
            "Collecting answers...\n",
            "Received question Are there any climate change trends that could influence the temperature in Karachi in June 2025?\n",
            "            Came up with answer: Climate change trends indicate that Karachi is experiencing a high climate change severity score, with a 3.3% worsening in climate conditions over the past 15 years and a temperature increase of about +0.6 °C. For June 2025, the temperature in Karachi is expected to be around 33°C, close to historical averages, with minimal rainfall (about 10.3 mm over 2 days). Overall, climate change is contributing to a gradual increase in temperature and variability in weather patterns, which could influence the temperature in Karachi in June 2025 by making it slightly warmer than in previous decades.\n",
            "Collecting answers...\n",
            "Received question What impact might the predicted temperature have on daily life and activities in Karachi on 24th June 2025?\n",
            "            Came up with answer: The predicted temperature in Karachi on 24th June 2025 is around 93°F (approximately 34°C) with a low of about 86°F (around 30°C). The weather is expected to be hot with minimal rainfall, possibly some light rain or drizzle as per recent forecasts. \n",
            "\n",
            "The impact of this temperature on daily life and activities in Karachi could include:\n",
            "\n",
            "1. Heat Stress: The high temperature may cause discomfort and heat stress, especially for outdoor workers and vulnerable populations such as the elderly and children.\n",
            "2. Outdoor Activities: People might limit outdoor activities during peak heat hours to avoid heat exhaustion.\n",
            "3. Energy Demand: Increased use of air conditioning and fans could lead to higher electricity consumption and potential strain on the power grid.\n",
            "4. Health Precautions: Residents may need to stay hydrated, wear light clothing, and take precautions against heat-related illnesses.\n",
            "5. Transportation: Heat can affect road conditions and vehicle performance, and people might prefer indoor or shaded transport options.\n",
            "6. Economic Activities: Some businesses, especially those reliant on outdoor work, might adjust working hours to cooler parts of the day.\n",
            "\n",
            "Overall, the hot temperature on 24th June 2025 in Karachi is likely to influence daily routines, health precautions, and energy use, with a slight chance of light rain providing minimal relief.\n",
            "Collecting answers...\n",
            "Received question What weather models or forecasts are used to predict the temperature for Karachi on 24th June 2025?\n",
            "            Came up with answer: The Pakistan Meteorological Department (PMD) uses a Multi-Model Ensemble (MME) technique to predict temperature and rainfall for Karachi. This technique combines outputs from multiple global seasonal prediction models that have optimal skill for the region. The models include global circulation models and other high-resolution weather models. The ensemble approach helps improve forecast accuracy by averaging the results of several models and accounting for uncertainties.\n",
            "\n",
            "Additionally, international models such as the ECMWF (European Centre for Medium-Range Weather Forecasts) ensemble, GFS (Global Forecast System), ICON, UKMO, ACCESS-G, GEM, and GDAPS/UM are also used in multi-model ensembles for detailed weather forecasts including temperature predictions for Karachi.\n",
            "\n",
            "In summary, temperature forecasts for Karachi on 24th June 2025 are generated using a combination of multiple global weather models integrated through the Multi-Model Ensemble technique by PMD, supplemented by international ensemble forecasts like ECMWF and GFS.\n",
            "Collecting answers...\n",
            "Received question What sources provide the most accurate temperature forecasts for Karachi?\n",
            "            Came up with answer: The most accurate temperature forecasts for Karachi are provided by sources such as Foreca.net, MeteoState, AccuWeather, and The Weather Channel. Additionally, the Pakistan Meteorological Department (PMD) offers official weather outlooks for Karachi. These sources provide detailed and reliable temperature forecasts including current conditions, hourly and 10-day forecasts.\n",
            "Collecting answers...\n",
            "Received question What historical temperature data for Karachi on 24th June can help in predicting the 2025 temperature?\n",
            "            Came up with answer: Historical temperature data for Karachi on 24th June from past years (2010 to 2024) shows a pattern of daily high temperatures typically around 33°C to 35°C, with lows around 27°C to 29°C. June in Karachi generally experiences minimal rainfall and high humidity, with temperatures often reaching mid-30s Celsius during the day. This historical data includes daily temperature highs, lows, and averages, as well as humidity and precipitation trends.\n",
            "\n",
            "Such historical temperature data for 24th June over multiple years helps in predicting the 2025 temperature by identifying trends, averages, and anomalies. For example, the average temperature in early June is around 34.3°C, with minimal rainfall (about 2 rainy days and 10.3 mm total rainfall in June). This data can be used in climate models to forecast the 2025 temperature for 24th June, considering factors like heat index, humidity, and historical temperature ranges.\n",
            "\n",
            "In summary, the key historical temperature data points for Karachi on 24th June that aid in predicting 2025 temperatures include:\n",
            "- Daily high temperatures averaging mid-30s °C (around 33-35°C)\n",
            "- Daily low temperatures around 27-29°C\n",
            "- Minimal rainfall and humidity levels typical for June\n",
            "- Yearly trends showing stable temperature ranges for late June\n",
            "\n",
            "These data points provide a baseline for climate models and forecasting tools to estimate the temperature for 24th June 2025 in Karachi.\n",
            "Generating report...\n"
          ]
        }
      ],
      "source": [
        "async for ev in handler.stream_events():\n",
        "    if isinstance(ev, ProgressEvent):\n",
        "        print(ev.msg)"
      ]
    },
    {
      "cell_type": "code",
      "execution_count": 34,
      "metadata": {
        "colab": {
          "base_uri": "https://localhost:8080/"
        },
        "id": "3wHB-9ZI0H_t",
        "outputId": "664f7c9d-762d-4ae1-9c6a-a077797d6324"
      },
      "outputs": [
        {
          "name": "stdout",
          "output_type": "stream",
          "text": [
            "==== The report ====\n",
            "Report on the Temperature of Karachi on 24th June 2025\n",
            "\n",
            "Introduction\n",
            "Karachi, Pakistan’s largest city, experiences hot and humid weather in June, with temperatures typically reaching the mid-30s Celsius during the day. This report consolidates forecast data, historical trends, climate change considerations, and expected impacts to provide a comprehensive overview of the temperature conditions anticipated in Karachi on 24th June 2025.\n",
            "\n",
            "Expected Temperature Range\n",
            "Forecasts indicate that on 24th June 2025, Karachi will experience daytime maximum temperatures ranging approximately between 34°C to 36°C (93°F to 97°F), with minimum nighttime temperatures expected between 29°C to 31°C (84°F to 88°F). More specifically, the predicted temperature range centers around a high of about 34°C (93°F) and a low near 30°C (86°F).\n",
            "\n",
            "Comparison with Historical and Average Temperatures\n",
            "Historically, data from 2010 to 2024 shows that Karachi’s temperatures on 24th June typically fall within 33°C to 35°C for highs and 27°C to 29°C for lows. The average temperature for Karachi in June is approximately 35°C (95°F) during the day and 29°C (84°F) at night. The forecast for 2025 suggests daytime temperatures slightly below the June average by about 1°C, while nighttime temperatures may be marginally higher than average.\n",
            "\n",
            "Weather Events and Influencing Factors\n",
            "No extreme weather events such as heatwaves are expected on this date. However, there is a possibility of light rain or drizzle, which could provide minor cooling effects and slightly reduce the daytime temperature. Karachi’s coastal location often moderates temperature extremes compared to inland areas, contributing to relatively mild conditions despite the summer heat.\n",
            "\n",
            "Climate Change Influence\n",
            "Long-term climate trends indicate that Karachi has experienced a gradual warming, with a climate change severity score reflecting a 3.3% worsening in conditions over the past 15 years and an average temperature increase of approximately +0.6°C. For June 2025, climate models project temperatures close to historical averages but acknowledge the influence of climate change in increasing temperature variability and the likelihood of slightly warmer conditions compared to previous decades.\n",
            "\n",
            "Forecasting Methods and Reliability\n",
            "Temperature predictions for 24th June 2025 are generated using a Multi-Model Ensemble (MME) approach by the Pakistan Meteorological Department (PMD), which integrates outputs from multiple global weather models such as ECMWF, GFS, ICON, UKMO, ACCESS-G, GEM, and GDAPS/UM. This ensemble technique improves forecast accuracy by averaging results and accounting for uncertainties.\n",
            "\n",
            "However, it is important to note that forecasts made this far in advance (several months ahead) rely heavily on climatological averages and statistical analyses rather than precise daily weather modeling. Forecast accuracy diminishes beyond a two-week horizon, so the provided temperature ranges should be considered indicative rather than exact.\n",
            "\n",
            "Reliable Sources for Temperature Forecasts\n",
            "For up-to-date and accurate temperature forecasts closer to the date, sources such as Foreca.net, MeteoState, AccuWeather, The Weather Channel, and the official Pakistan Meteorological Department provide detailed and reliable information, including hourly and 10-day outlooks.\n",
            "\n",
            "Impact on Daily Life and Activities\n",
            "The anticipated hot temperatures around 34°C during the day and 30°C at night, combined with high humidity typical of Karachi in June, may have several effects on daily life:\n",
            "\n",
            "- Heat Stress: Vulnerable groups such as outdoor workers, the elderly, and children may experience discomfort or heat-related health issues.\n",
            "- Outdoor Activities: Residents may limit outdoor exposure during peak heat hours to avoid heat exhaustion.\n",
            "- Energy Demand: Increased use of cooling appliances like air conditioners and fans could strain the electricity grid.\n",
            "- Health Precautions: Staying hydrated, wearing light clothing, and avoiding strenuous activity during the hottest periods will be advisable.\n",
            "- Transportation: Heat can affect road surfaces and vehicle performance, potentially influencing travel choices.\n",
            "- Economic Activities: Businesses reliant on outdoor labor may adjust working hours to cooler parts of the day.\n",
            "\n",
            "The possibility of light rain or drizzle may offer slight relief but is unlikely to significantly alter these impacts.\n",
            "\n",
            "Conclusion\n",
            "On 24th June 2025, Karachi is expected to experience typical early summer temperatures with highs around 34°C and lows near 30°C, slightly cooler than the historical daytime average but marginally warmer at night. The weather is forecasted to be generally hot with a chance of light rain, and no extreme heat events are anticipated. While long-range forecasts provide a useful general outlook, their precision is limited, and updated forecasts closer to the date should be consulted for detailed planning. Climate change trends suggest a gradual warming influence, which may contribute to increased temperature variability in the coming years. Residents and authorities should prepare for the usual summer heat impacts on health, energy demand, and daily activities, with minor potential relief from occasional light precipitation.\n",
            "\n",
            "This comprehensive assessment integrates historical data, forecast models, climate trends, and expected societal impacts to provide a clear understanding of Karachi’s temperature outlook on 24th June 2025.\n"
          ]
        }
      ],
      "source": [
        "final_result = await handler\n",
        "print(\"==== The report ====\")\n",
        "print(final_result)"
      ]
    },
    {
      "cell_type": "code",
      "execution_count": null,
      "metadata": {
        "id": "cGWBJP4_ZnxM"
      },
      "outputs": [],
      "source": []
    }
  ],
  "metadata": {
    "colab": {
      "provenance": []
    },
    "kernelspec": {
      "display_name": "base",
      "language": "python",
      "name": "python3"
    },
    "language_info": {
      "codemirror_mode": {
        "name": "ipython",
        "version": 3
      },
      "file_extension": ".py",
      "mimetype": "text/x-python",
      "name": "python",
      "nbconvert_exporter": "python",
      "pygments_lexer": "ipython3",
      "version": "3.12.3"
    }
  },
  "nbformat": 4,
  "nbformat_minor": 0
}
